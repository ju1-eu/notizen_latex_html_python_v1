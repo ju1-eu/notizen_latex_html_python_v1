{
 "cells": [
  {
   "cell_type": "markdown",
   "id": "574a2d82",
   "metadata": {},
   "source": [
    "# Mein erstes Jupyter Notebook\n",
    "Dies ist ein Test-Notebook."
   ]
  },
  {
   "cell_type": "code",
   "execution_count": 3,
   "id": "6f418073",
   "metadata": {},
   "outputs": [
    {
     "name": "stdout",
     "output_type": "stream",
     "text": [
      "Hallo Welt!\n"
     ]
    }
   ],
   "source": [
    "print('Hallo Welt!')"
   ]
  },
  {
   "cell_type": "markdown",
   "id": "933cec77",
   "metadata": {},
   "source": [
    "## Abschluss\n",
    "Dies war ein einfaches Beispiel eines Jupyter Notebooks."
   ]
  }
 ],
 "metadata": {
  "kernelspec": {
   "display_name": "base",
   "language": "python",
   "name": "python3"
  },
  "language_info": {
   "codemirror_mode": {
    "name": "ipython",
    "version": 3
   },
   "file_extension": ".py",
   "mimetype": "text/x-python",
   "name": "python",
   "nbconvert_exporter": "python",
   "pygments_lexer": "ipython3",
   "version": "3.11.5"
  }
 },
 "nbformat": 4,
 "nbformat_minor": 5
}
